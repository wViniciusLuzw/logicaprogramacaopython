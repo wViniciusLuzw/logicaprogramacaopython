{
  "nbformat": 4,
  "nbformat_minor": 0,
  "metadata": {
    "colab": {
      "provenance": [],
      "authorship_tag": "ABX9TyN83uiNumeWRYqK1uWXaHDJ",
      "include_colab_link": true
    },
    "kernelspec": {
      "name": "python3",
      "display_name": "Python 3"
    },
    "language_info": {
      "name": "python"
    }
  },
  "cells": [
    {
      "cell_type": "markdown",
      "metadata": {
        "id": "view-in-github",
        "colab_type": "text"
      },
      "source": [
        "<a href=\"https://colab.research.google.com/github/wViniciusLuzw/logicaprogramacaopython/blob/main/variaveis%20e%20operadores%20aritmeticos/VariaveisOperadoresAritimedicos.ipynb\" target=\"_parent\"><img src=\"https://colab.research.google.com/assets/colab-badge.svg\" alt=\"Open In Colab\"/></a>"
      ]
    },
    {
      "cell_type": "markdown",
      "source": [
        "#Criando Variaveis\n"
      ],
      "metadata": {
        "id": "lsH9E9KWBehn"
      }
    },
    {
      "cell_type": "markdown",
      "source": [
        "#Área do Quadrado\n",
        "##operação = l.l"
      ],
      "metadata": {
        "id": "MkzNiPjKNDNv"
      }
    },
    {
      "cell_type": "code",
      "execution_count": null,
      "metadata": {
        "colab": {
          "base_uri": "https://localhost:8080/"
        },
        "id": "SVPeAFUjBEoE",
        "outputId": "cd707ef2-9da2-45be-9004-9cc6637f3b5b"
      },
      "outputs": [
        {
          "output_type": "stream",
          "name": "stdout",
          "text": [
            "Digite o valor do lado do quedrado: 5\n",
            "A área do quadrado é:  25.0\n"
          ]
        }
      ],
      "source": [
        "# entrada\n",
        "lado = float(input(\"Digite o valor do lado do quedrado: \"))\n",
        "# processamento\n",
        "area = lado*lado\n",
        "#saída\n",
        "print(\"A área do quadrado é: \", area)"
      ]
    },
    {
      "cell_type": "markdown",
      "source": [
        "#Área do Retângulo\n",
        "##operação = B.h"
      ],
      "metadata": {
        "id": "OFjGR0y6KB03"
      }
    },
    {
      "cell_type": "code",
      "source": [
        "# entrada\n",
        "base = float(input(\"Digite o valor da base do retângulo: \"))\n",
        "alt = float(input(\"Digite o valor da altura do retângulo: \"))\n",
        "#processamento\n",
        "area = base*alt\n",
        "#saída\n",
        "print(\"A área do retângulo é: \", area)"
      ],
      "metadata": {
        "colab": {
          "base_uri": "https://localhost:8080/"
        },
        "id": "oDbWLyT0KIp2",
        "outputId": "0d74fb3e-20ea-4080-e1c4-dadbb60373b2"
      },
      "execution_count": null,
      "outputs": [
        {
          "output_type": "stream",
          "name": "stdout",
          "text": [
            "Digite o valor da base do retângulo: 5\n",
            "Digite o valor da altura do retângulo: 7\n",
            "A área do retângulo é:  35.0\n"
          ]
        }
      ]
    },
    {
      "cell_type": "markdown",
      "source": [
        "#Área do Trapezio\n",
        "##operação = (B+b).h/2"
      ],
      "metadata": {
        "id": "JC5V8u15LEUe"
      }
    },
    {
      "cell_type": "code",
      "source": [
        "#entrada\n",
        "b_maior = float(input(\"Digite o valor da base maior do trapezio: \"))\n",
        "b_menor = float(input(\"Digite o valor da base manor do trapezio: \"))\n",
        "alt = float(input(\"Digite o valor da altura do trapezio: \"))\n",
        "#processamento\n",
        "area = (b_maior + b_menor)*alt/2\n",
        "#saída\n",
        "print(\"A área do trapezio é: \", area)"
      ],
      "metadata": {
        "colab": {
          "base_uri": "https://localhost:8080/"
        },
        "id": "fXUSOpNnLJqX",
        "outputId": "f70920f7-a47c-4243-e08b-495d7ef5960b"
      },
      "execution_count": null,
      "outputs": [
        {
          "output_type": "stream",
          "name": "stdout",
          "text": [
            "Digite o valor da base maior do trapezio: 1\n",
            "Digite o valor da base manor do trapezio: 2\n",
            "Digite o valor da altura do trapezio: 3\n",
            "A área do trapezio é:  4.5\n"
          ]
        }
      ]
    },
    {
      "cell_type": "markdown",
      "source": [
        "#Área do triângulo\n",
        "##operação = b.h/2"
      ],
      "metadata": {
        "id": "H4MOayRCMej-"
      }
    },
    {
      "cell_type": "code",
      "source": [
        "#entrada\n",
        "base = float(input(\"Digite o valor da base do triângulo: \"))\n",
        "alt = float(input(\"Digite o valor da altura do triângulo: \"))\n",
        "#processamento\n",
        "area = base*alt/2\n",
        "#saída\n",
        "print(\"A área do triângulo é: \", area)"
      ],
      "metadata": {
        "colab": {
          "base_uri": "https://localhost:8080/"
        },
        "id": "HbVkw4CzMqqd",
        "outputId": "2ec97c3c-8a94-46c4-c136-9a6756b74e4e"
      },
      "execution_count": null,
      "outputs": [
        {
          "output_type": "stream",
          "name": "stdout",
          "text": [
            "Digite o valor da base do triângulo: 5\n",
            "Digite o valor da altura do triângulo: 10\n",
            "A área do triângulo é:  25.0\n"
          ]
        }
      ]
    },
    {
      "cell_type": "markdown",
      "source": [
        "#Área do Círculo"
      ],
      "metadata": {
        "id": "ifdB1UtPVPJr"
      }
    },
    {
      "cell_type": "code",
      "source": [
        "#entrada\n",
        "raio = float(input(\"Qual é raio do círculo: \"))\n",
        "\n",
        "#processamento\n",
        "area =  raio*raio*3.1416\n",
        "\n",
        "#saída\n",
        "print(\"A área do cículos é: \", area)\n",
        "\n"
      ],
      "metadata": {
        "colab": {
          "base_uri": "https://localhost:8080/"
        },
        "id": "MoqfkaCIVUo8",
        "outputId": "bfd588ac-7cba-42da-d144-5ba85d0bf8d4"
      },
      "execution_count": null,
      "outputs": [
        {
          "output_type": "stream",
          "name": "stdout",
          "text": [
            "Qual é raio do círculo: 2\n",
            "A área do cículos é:  (12.0, 1416)\n"
          ]
        }
      ]
    },
    {
      "cell_type": "markdown",
      "source": [
        "#DESAFIO"
      ],
      "metadata": {
        "id": "x1exT6v0RKM9"
      }
    },
    {
      "cell_type": "code",
      "source": [
        "#entrada\n",
        "print(\"Olá sou o Vini\")\n",
        "print(\"Vamos calcular quantos azulejos você precisa para preencher determinada parede?\")\n",
        "\n",
        "#azulejo\n",
        "alt_azule = float(input(\"Qual a altura do azulejo em cm: \"))\n",
        "base_azule = float(input(\"Qual a base do azulejo em cm: \"))\n",
        "\n",
        "area_azule = alt_azule*base_azule\n",
        "\n",
        "print(\"A área do azulejo é: \", area_azule)\n",
        "\n",
        "#parede\n",
        "alt_pared = float(input(\"Qual a altura da parede em metros: \"))\n",
        "base_pared = float(input(\"Qual a base da parede em metros: \"))\n",
        "\n",
        "area_pared = alt_pared*base_pared\n",
        "\n",
        "print(\"A área da parede é: \", area_pared)\n",
        "\n",
        "print(\"Agora vamos ver de quantos azulejos serão necessários para preencher a parede\")\n",
        "\n",
        "quant_azule = area_pared/(area_azule/100)\n",
        "\n",
        "print(\"Você precisará de: \", quant_azule, \"azulejos\")\n",
        "\n",
        "\n"
      ],
      "metadata": {
        "id": "W5QvHkAqRSQf"
      },
      "execution_count": null,
      "outputs": []
    }
  ]
}