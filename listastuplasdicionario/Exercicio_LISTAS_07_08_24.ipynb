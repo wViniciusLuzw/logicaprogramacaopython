{
  "nbformat": 4,
  "nbformat_minor": 0,
  "metadata": {
    "colab": {
      "provenance": [],
      "include_colab_link": true
    },
    "kernelspec": {
      "name": "python3",
      "display_name": "Python 3"
    },
    "language_info": {
      "name": "python"
    }
  },
  "cells": [
    {
      "cell_type": "markdown",
      "metadata": {
        "id": "view-in-github",
        "colab_type": "text"
      },
      "source": [
        "<a href=\"https://colab.research.google.com/github/wViniciusLuzw/logicaprogramacaopython/blob/main/listastuplasdicionario/Exercicio_LISTAS_07_08_24.ipynb\" target=\"_parent\"><img src=\"https://colab.research.google.com/assets/colab-badge.svg\" alt=\"Open In Colab\"/></a>"
      ]
    },
    {
      "cell_type": "markdown",
      "source": [
        "# **Exercícios utilizando Listas Python**"
      ],
      "metadata": {
        "id": "Fv1r44TLwVKM"
      }
    },
    {
      "cell_type": "markdown",
      "source": [
        "## 1. Soma dos Elementos da Lista\n",
        "Dada uma lista de números, calcule a soma de todos os elementos."
      ],
      "metadata": {
        "id": "b9nEDJF0wjrc"
      }
    },
    {
      "cell_type": "code",
      "execution_count": null,
      "metadata": {
        "id": "woHYcqQCwA-u",
        "colab": {
          "base_uri": "https://localhost:8080/"
        },
        "outputId": "8f6e505b-2d39-433e-d7ac-96f6701c08d3"
      },
      "outputs": [
        {
          "output_type": "execute_result",
          "data": {
            "text/plain": [
              "15"
            ]
          },
          "metadata": {},
          "execution_count": 14
        }
      ],
      "source": [
        "# Seu código aqui...\n",
        "lista = [1, 2, 3, 4, 5]\n",
        "sum(lista)"
      ]
    },
    {
      "cell_type": "markdown",
      "source": [
        "## 2. Produto dos elementos da lista\n",
        "Dada uma lista de números, calcule o produto de todos os elementos."
      ],
      "metadata": {
        "id": "jRKcmWKiw0z8"
      }
    },
    {
      "cell_type": "code",
      "source": [
        "# Seu código aqui...\n",
        "lista2 = [1, 2, 3, 4, 5]\n",
        "prod = 1\n",
        "for i in lista2:\n",
        "  prod = prod * i\n",
        "print(prod)"
      ],
      "metadata": {
        "id": "fLbEGjowwaZe",
        "colab": {
          "base_uri": "https://localhost:8080/"
        },
        "outputId": "e3cf28d8-5681-4a00-807c-e8bb3044cac9"
      },
      "execution_count": null,
      "outputs": [
        {
          "output_type": "stream",
          "name": "stdout",
          "text": [
            "120\n"
          ]
        }
      ]
    },
    {
      "cell_type": "markdown",
      "source": [
        "## 3. Encontre o menor elemento\n",
        "Dada uma lista de números, encontre o menor elemento."
      ],
      "metadata": {
        "id": "-Er6OsAyxFQj"
      }
    },
    {
      "cell_type": "code",
      "source": [
        "# Seu código aqui...\n",
        "lista3 = [1, 2, 3, 4, 5]\n",
        "min(lista3)"
      ],
      "metadata": {
        "id": "KVoiJ_u0xKvc",
        "colab": {
          "base_uri": "https://localhost:8080/"
        },
        "outputId": "4b768528-2e49-4450-fe5f-17318b7347a5"
      },
      "execution_count": null,
      "outputs": [
        {
          "output_type": "execute_result",
          "data": {
            "text/plain": [
              "1"
            ]
          },
          "metadata": {},
          "execution_count": 11
        }
      ]
    },
    {
      "cell_type": "markdown",
      "source": [
        "## 4. Encontre o maior elemento\n",
        "Dada uma lista de números, encontre o maior elemento."
      ],
      "metadata": {
        "id": "WXYaMI7FxQXk"
      }
    },
    {
      "cell_type": "code",
      "source": [
        "# Seu código aqui...\n",
        "lista4 = [1, 2, 3, 4, 5]\n",
        "max(lista4)"
      ],
      "metadata": {
        "id": "DoNhSLyuxb19",
        "colab": {
          "base_uri": "https://localhost:8080/"
        },
        "outputId": "5baecc82-70be-42d4-832d-13f5fa6b57a2"
      },
      "execution_count": null,
      "outputs": [
        {
          "output_type": "execute_result",
          "data": {
            "text/plain": [
              "5"
            ]
          },
          "metadata": {},
          "execution_count": 12
        }
      ]
    },
    {
      "cell_type": "markdown",
      "source": [
        "## 5. Contar Ocorrências de um Elemento\n",
        "Dada uma lista de números e um número alvo, conte quantas vezes o alvo aparece na lista."
      ],
      "metadata": {
        "id": "BkHVHCiPxgTs"
      }
    },
    {
      "cell_type": "code",
      "source": [
        "# Seu código aqui...\n",
        "lista5 = [1, 2, 3, 4, 3, 2, 1]\n",
        "alvo = 2\n",
        "lista5.count(alvo)"
      ],
      "metadata": {
        "id": "Hreq56gixmYC",
        "colab": {
          "base_uri": "https://localhost:8080/"
        },
        "outputId": "9ccd5f38-a6a5-412b-fa0b-ec4e50a65c3f"
      },
      "execution_count": null,
      "outputs": [
        {
          "output_type": "execute_result",
          "data": {
            "text/plain": [
              "2"
            ]
          },
          "metadata": {},
          "execution_count": 20
        }
      ]
    },
    {
      "cell_type": "markdown",
      "source": [
        "## 6. Remover duplicatas\n",
        "Dada uma lista de números, crie uma nova lista sem elementos duplicados."
      ],
      "metadata": {
        "id": "zSsy12F-xrVT"
      }
    },
    {
      "cell_type": "code",
      "source": [
        "# Seu código aqui...\n",
        "lista6 = [1, 2, 2, 3, 4, 4, 5]\n",
        "newlist = []\n",
        "listdup = []\n",
        "for i in lista6:\n",
        "  var = lista6.count(i)\n",
        "  if not i in listdup:\n",
        "    if (var == 1):\n",
        "      newlist.append(i)\n",
        "    elif (var > 1):\n",
        "      newlist.append(i)\n",
        "      listdup.append(i)\n",
        "print(newlist)\n",
        "print(listdup)"
      ],
      "metadata": {
        "id": "9N35r8abxydM",
        "colab": {
          "base_uri": "https://localhost:8080/"
        },
        "outputId": "c57e0071-5484-4942-ea03-a4fbd0fe14e1"
      },
      "execution_count": null,
      "outputs": [
        {
          "output_type": "stream",
          "name": "stdout",
          "text": [
            "[1, 2, 3, 4, 5]\n",
            "[2, 4]\n"
          ]
        }
      ]
    },
    {
      "cell_type": "code",
      "source": [
        "lista6 = [1, 2, 2, 3, 4, 4, 5]\n",
        "list(set(lista6))"
      ],
      "metadata": {
        "colab": {
          "base_uri": "https://localhost:8080/"
        },
        "id": "UrIJi0NjAUk7",
        "outputId": "fb77dcf3-dfd8-4f95-8728-1b1ef4c49248"
      },
      "execution_count": null,
      "outputs": [
        {
          "output_type": "execute_result",
          "data": {
            "text/plain": [
              "[1, 2, 3, 4, 5]"
            ]
          },
          "metadata": {},
          "execution_count": 17
        }
      ]
    },
    {
      "cell_type": "markdown",
      "source": [
        "## 7. Inverter uma lista\n",
        "Dada uma lista de números, inverta a ordem dos elementos."
      ],
      "metadata": {
        "id": "Ev1YAUF9x3o8"
      }
    },
    {
      "cell_type": "code",
      "source": [
        "# Seu código aqui...\n",
        "lista6 = [1, 2, 3, 4, 5]\n",
        "lista6[::-1]"
      ],
      "metadata": {
        "id": "X8YLy9uqx9kz",
        "colab": {
          "base_uri": "https://localhost:8080/"
        },
        "outputId": "0b15e667-2d01-4115-e1de-7a85901505dc"
      },
      "execution_count": null,
      "outputs": [
        {
          "output_type": "execute_result",
          "data": {
            "text/plain": [
              "[5, 4, 3, 2, 1]"
            ]
          },
          "metadata": {},
          "execution_count": 7
        }
      ]
    },
    {
      "cell_type": "markdown",
      "source": [
        "## 8. Intercalar Duas Listas\n",
        "Dadas duas listas de números, crie uma nova lista intercalando os elementos das duas listas."
      ],
      "metadata": {
        "id": "1k2bPDTPyB-L"
      }
    },
    {
      "cell_type": "code",
      "source": [
        "# Seu código aqui...\n",
        "lista81 = [1, 3, 5]\n",
        "lista82 = [2, 4, 6]\n",
        "newlist = []\n",
        "cont = 0\n",
        "for i in range(0, len(lista81)):\n",
        "  newlist.append(lista81[i])\n",
        "  newlist.append(lista82[i])\n",
        "print(newlist)\n"
      ],
      "metadata": {
        "id": "TXajIrGxyH3j",
        "colab": {
          "base_uri": "https://localhost:8080/"
        },
        "outputId": "58055900-3d39-4141-b5bc-455179c2148e"
      },
      "execution_count": null,
      "outputs": [
        {
          "output_type": "stream",
          "name": "stdout",
          "text": [
            "[1, 2, 3, 4, 5, 6]\n"
          ]
        }
      ]
    },
    {
      "cell_type": "markdown",
      "source": [
        "## 9. Somar Elementos Correspondentes de Duas Listas\n",
        "Dadas duas listas de números de mesmo tamanho, crie uma nova lista com a soma dos elementos correspondentes."
      ],
      "metadata": {
        "id": "ewiPtV9MyP1q"
      }
    },
    {
      "cell_type": "code",
      "source": [
        "# Seu código aqui...\n",
        "lista91 = [1, 2, 3]\n",
        "lista92 = [4, 5, 6]\n",
        "listcot = []\n",
        "cont = 0\n",
        "while cont < 3:\n",
        "  listcot.append(lista91[cont] + lista92[cont])\n",
        "  cont = cont + 1\n",
        "print(listcot)"
      ],
      "metadata": {
        "id": "0-4qe89uyVWT",
        "colab": {
          "base_uri": "https://localhost:8080/"
        },
        "outputId": "d69562dd-3948-47a1-b27a-a739cf6d8a2e"
      },
      "execution_count": null,
      "outputs": [
        {
          "output_type": "stream",
          "name": "stdout",
          "text": [
            "[5, 7, 9]\n"
          ]
        }
      ]
    },
    {
      "cell_type": "markdown",
      "source": [
        "## 10. Mover Zeros para o Fim\n",
        "Dada uma lista de números, mova todos os zeros para o final da lista."
      ],
      "metadata": {
        "id": "QX-QkQg5ybQa"
      }
    },
    {
      "cell_type": "code",
      "source": [
        "# Seu código aqui...\n",
        "lista10 = [0, 1, 0, 3, 12]\n",
        "for i in lista10:\n",
        "  if i == 0:\n",
        "    lista10.remove(i)\n",
        "    lista10.append(i)\n",
        "print(lista10)"
      ],
      "metadata": {
        "id": "i8jHZT30ygD6",
        "colab": {
          "base_uri": "https://localhost:8080/"
        },
        "outputId": "f4da2748-10f3-4a35-d049-3cfbc3d467a2"
      },
      "execution_count": null,
      "outputs": [
        {
          "output_type": "stream",
          "name": "stdout",
          "text": [
            "[1, 3, 12, 0, 0]\n"
          ]
        }
      ]
    }
  ]
}