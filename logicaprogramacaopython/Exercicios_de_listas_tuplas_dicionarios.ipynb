{
  "nbformat": 4,
  "nbformat_minor": 0,
  "metadata": {
    "colab": {
      "provenance": [],
      "authorship_tag": "ABX9TyNK9WKOMtcN6UObWf4py3zk",
      "include_colab_link": true
    },
    "kernelspec": {
      "name": "python3",
      "display_name": "Python 3"
    },
    "language_info": {
      "name": "python"
    }
  },
  "cells": [
    {
      "cell_type": "markdown",
      "metadata": {
        "id": "view-in-github",
        "colab_type": "text"
      },
      "source": [
        "<a href=\"https://colab.research.google.com/github/wViniciusLuzw/logicaprogramacaopython/blob/main/logicaprogramacaopython/Exercicios_de_listas_tuplas_dicionarios.ipynb\" target=\"_parent\"><img src=\"https://colab.research.google.com/assets/colab-badge.svg\" alt=\"Open In Colab\"/></a>"
      ]
    },
    {
      "cell_type": "markdown",
      "source": [
        "#Todos os exercícios"
      ],
      "metadata": {
        "id": "3jSou-FYPqXb"
      }
    },
    {
      "cell_type": "markdown",
      "source": [
        "# **Exercícios**\n"
      ],
      "metadata": {
        "id": "Y_YJtHALyD7j"
      }
    },
    {
      "cell_type": "markdown",
      "source": [
        "##Exercício 1: Manipulação de Listas\n",
        "\n",
        "- Defina uma lista com 5 nomes de cidades.\n",
        "- Adicione uma nova cidade ao final da lista.\n",
        "- Remova a segunda cidade da lista.\n",
        "- Imprima a lista resultante."
      ],
      "metadata": {
        "id": "lneMNGRMQ4D7"
      }
    },
    {
      "cell_type": "code",
      "source": [
        "# seu código aqui...\n",
        "cidades = ['Ribeirão Pires', 'Maúa', 'São Bernardo', 'Santo André', 'Votuporanga']\n",
        "cidades.append(\"Jundiaí\")\n",
        "del cidades[1]\n",
        "cidades"
      ],
      "metadata": {
        "id": "F7PpZmzsyJkj",
        "colab": {
          "base_uri": "https://localhost:8080/"
        },
        "outputId": "5f44dd47-54e8-45eb-f35d-fe6d1451ce04"
      },
      "execution_count": null,
      "outputs": [
        {
          "output_type": "execute_result",
          "data": {
            "text/plain": [
              "['Ribeirão Pires', 'São Bernardo', 'Santo André', 'Votuporanga', 'Jundiaí']"
            ]
          },
          "metadata": {},
          "execution_count": 7
        }
      ]
    },
    {
      "cell_type": "markdown",
      "source": [
        "##Exercício 2: Operações com Tuplas\n",
        "\n",
        "- Defina uma tupla com 4 cores.\n",
        "- Crie uma nova tupla que seja a concatenação da tupla original com outra contendo mais 2 cores.\n",
        "- Imprima a nova tupla."
      ],
      "metadata": {
        "id": "chLTYNQGyUrj"
      }
    },
    {
      "cell_type": "code",
      "source": [
        "# seu código aqui...\n",
        "cores = (\"Amarelo\", \"Azul\", \"Vermelho\", \"Rosa\")\n",
        "novas_cores = cores + (\"Roxo\", \"Verde\",)\n",
        "novas_cores"
      ],
      "metadata": {
        "id": "TdRLrGUoyaHa",
        "colab": {
          "base_uri": "https://localhost:8080/"
        },
        "outputId": "d545f3e8-4d45-43a7-b7f5-f1aae7f5aa46"
      },
      "execution_count": null,
      "outputs": [
        {
          "output_type": "execute_result",
          "data": {
            "text/plain": [
              "('Amarelo', 'Azul', 'Vermelho', 'Rosa', 'Roxo', 'Verde')"
            ]
          },
          "metadata": {},
          "execution_count": 8
        }
      ]
    },
    {
      "cell_type": "markdown",
      "source": [
        "##Exercício 3: Dicionários Simples\n",
        "\n",
        "Crie um dicionário para representar um aluno, contendo \"nome\", \"idade\" e \"curso\".\n",
        "- Atualize a idade do aluno.\n",
        "- Adicione uma nova chave \"nota\" com um valor.\n",
        "- Imprima o dicionário atualizado"
      ],
      "metadata": {
        "id": "5eLz2Zvvygej"
      }
    },
    {
      "cell_type": "code",
      "source": [
        "aluno = {\n",
        "    \"nome\": \"Vinicius\",\n",
        "    \"idade\": 15,\n",
        "    \"curso\": \"TI\"\n",
        "}\n",
        "aluno[\"idade\"] = 16\n",
        "aluno[\"nota\"] = 9\n",
        "print(aluno)"
      ],
      "metadata": {
        "id": "g3w1JYkIy1fy",
        "colab": {
          "base_uri": "https://localhost:8080/"
        },
        "outputId": "970a1a0d-1463-4645-fcb1-962605b4525e"
      },
      "execution_count": null,
      "outputs": [
        {
          "output_type": "stream",
          "name": "stdout",
          "text": [
            "{'nome': 'Vinicius', 'idade': 16, 'curso': 'TI', 'nota': 9}\n"
          ]
        }
      ]
    },
    {
      "cell_type": "markdown",
      "source": [
        "##Exercício 4: Listas e Dicionários\n",
        "\n",
        "- Crie uma lista de dicionários, onde cada dicionário representa um produto com as chaves \"nome\" e \"preço\".\n",
        "- Adicione um novo produto à lista.\n",
        "- Atualize o preço do primeiro produto na lista.\n",
        "- Imprima a lista resultante."
      ],
      "metadata": {
        "id": "6IhHbYV3y7ES"
      }
    },
    {
      "cell_type": "code",
      "source": [
        "# seu código aqui...\n",
        "lista = [{\"nome\" : \"BATATA\", \"preço\" : 200}, {\"nome\" : \"CENOURA\", \"preço\" : 100}]\n",
        "lista.append({\"nome\" : \"TOMATE\", \"preço\" : 200})\n",
        "lista[0][\"preço\"] = 500\n",
        "lista"
      ],
      "metadata": {
        "id": "OgnFiZ2qzGAD",
        "colab": {
          "base_uri": "https://localhost:8080/"
        },
        "outputId": "2a669edf-74f1-4337-966d-13a5cd51560e"
      },
      "execution_count": null,
      "outputs": [
        {
          "output_type": "execute_result",
          "data": {
            "text/plain": [
              "[{'nome': 'BATATA', 'preço': 500},\n",
              " {'nome': 'CENOURA', 'preço': 100},\n",
              " {'nome': 'TOMATE', 'preço': 200}]"
            ]
          },
          "metadata": {},
          "execution_count": 26
        }
      ]
    },
    {
      "cell_type": "markdown",
      "source": [
        "##Exercício 5: Analisando uma Lista de Tuplas\n",
        "\n",
        "- Crie uma lista de tuplas, onde cada tupla contém um par (nome, idade).\n",
        "- Encontre e imprima o nome da pessoa mais velha.\n",
        "- Encontre e imprima a idade média das pessoas."
      ],
      "metadata": {
        "id": "KtVatd9TzJRC"
      }
    },
    {
      "cell_type": "code",
      "source": [
        "# seu código aqui...\n",
        "listaalunos = [(\"Cintia\", 42), (\"Pedro\", 35)]\n",
        "\n",
        "med = 0\n",
        "maior = 0\n",
        "nome = 0\n",
        "ano = 0\n",
        "for i in listaalunos:\n",
        "  if (i[1] > maior):\n",
        "    nome = i[0]\n",
        "    maior = i[1]\n",
        "  med = i[1] + med\n",
        "print(\"A média das idades é\",med/len(listaalunos))\n",
        "print(\"A pessoa mais velha é\", nome, \"com\", maior)\n",
        "\n"
      ],
      "metadata": {
        "id": "yLcULP8ozSHh",
        "colab": {
          "base_uri": "https://localhost:8080/"
        },
        "outputId": "54181bf2-0822-418a-b306-b98c48a6c19a"
      },
      "execution_count": null,
      "outputs": [
        {
          "output_type": "stream",
          "name": "stdout",
          "text": [
            "A média das idades é 38.5\n",
            "A pessoa mais velha é Cintia com 42\n"
          ]
        }
      ]
    },
    {
      "cell_type": "markdown",
      "source": [
        "# **Exercícios**"
      ],
      "metadata": {
        "id": "alyrqUJst2B7"
      }
    },
    {
      "cell_type": "code",
      "source": [
        "# 1 - Use o método len para imprimir o comprimento da string.\n",
        "x = \"Hello World\"\n",
        "print(len(x))"
      ],
      "metadata": {
        "id": "VaXue1uMuGtE",
        "colab": {
          "base_uri": "https://localhost:8080/"
        },
        "outputId": "7262d6b4-75b8-43a5-ce7a-548ba37eabda"
      },
      "execution_count": null,
      "outputs": [
        {
          "output_type": "stream",
          "name": "stdout",
          "text": [
            "11\n"
          ]
        }
      ]
    },
    {
      "cell_type": "code",
      "source": [
        "# 2 - Obtenha o primeiro caractere da string txt.\n",
        "txt = \"Hello World\"\n",
        "x = txt[0]\n",
        "print(x)"
      ],
      "metadata": {
        "id": "hE23s19XuT9V",
        "colab": {
          "base_uri": "https://localhost:8080/"
        },
        "outputId": "50db92bb-9e1f-44ae-f9cf-c96fda7416b7"
      },
      "execution_count": null,
      "outputs": [
        {
          "output_type": "stream",
          "name": "stdout",
          "text": [
            "H\n"
          ]
        }
      ]
    },
    {
      "cell_type": "code",
      "source": [
        "# 3 - Obtenha os caracteres do índice 2 ao índice 4 ( llo).\n",
        "txt = \"Hello World\"\n",
        "txt[2:5]"
      ],
      "metadata": {
        "id": "u5G2G2Icuh_5",
        "colab": {
          "base_uri": "https://localhost:8080/",
          "height": 35
        },
        "outputId": "ad0e95aa-4cb8-42af-e49b-bb340443736d"
      },
      "execution_count": null,
      "outputs": [
        {
          "output_type": "execute_result",
          "data": {
            "text/plain": [
              "'llo'"
            ],
            "application/vnd.google.colaboratory.intrinsic+json": {
              "type": "string"
            }
          },
          "metadata": {},
          "execution_count": 19
        }
      ]
    },
    {
      "cell_type": "code",
      "source": [
        "# 4 - Converta o valor de txt para maiúsculas.\n",
        "txt = \"Hello World\"\n",
        "txt.upper()"
      ],
      "metadata": {
        "id": "i_QREABlusUY",
        "colab": {
          "base_uri": "https://localhost:8080/",
          "height": 35
        },
        "outputId": "51e020cb-4aad-46a4-c62c-c9d0efb45d26"
      },
      "execution_count": null,
      "outputs": [
        {
          "output_type": "execute_result",
          "data": {
            "text/plain": [
              "'HELLO WORLD'"
            ],
            "application/vnd.google.colaboratory.intrinsic+json": {
              "type": "string"
            }
          },
          "metadata": {},
          "execution_count": 20
        }
      ]
    },
    {
      "cell_type": "code",
      "source": [
        "# 5 - Conte quantas vezes aparece a palavra \"de\" na string abaixo\n",
        "txt = \"Eu gosto de vijar, tomar vinho, de estudar estudar programação, de estudar Python\"\n",
        "txt.count(\"de\")"
      ],
      "metadata": {
        "id": "nVC1pSwq2PDH",
        "colab": {
          "base_uri": "https://localhost:8080/"
        },
        "outputId": "5265edef-b503-4df6-b0e5-949b3ec3e956"
      },
      "execution_count": null,
      "outputs": [
        {
          "output_type": "execute_result",
          "data": {
            "text/plain": [
              "3"
            ]
          },
          "metadata": {},
          "execution_count": 22
        }
      ]
    },
    {
      "cell_type": "code",
      "source": [
        "# 6 - Separe a frase abaixo toda vez que encontrar um vírgula\n",
        "txt = \"Eu gosto de viajar, tomar vinho, de estudar estudar programação, de estudar Python\"\n",
        "txt.split(\",\")"
      ],
      "metadata": {
        "id": "tkUBrdQH3OUR",
        "colab": {
          "base_uri": "https://localhost:8080/"
        },
        "outputId": "b9906c6b-ee0b-4f31-ef71-8467e2c46f06"
      },
      "execution_count": null,
      "outputs": [
        {
          "output_type": "execute_result",
          "data": {
            "text/plain": [
              "['Eu gosto de viajar',\n",
              " ' tomar vinho',\n",
              " ' de estudar estudar programação',\n",
              " ' de estudar Pyhon']"
            ]
          },
          "metadata": {},
          "execution_count": 24
        }
      ]
    },
    {
      "cell_type": "code",
      "source": [
        "#7 - Peça ao usuário uma frase e substitua todas as ocorrências de espaço por “#”.\n",
        "var = input(str(\"\"))\n",
        "frase = var.replace(\" \", \"#\")\n",
        "print(frase)"
      ],
      "metadata": {
        "id": "WZn4Jk5OtYaV",
        "colab": {
          "base_uri": "https://localhost:8080/"
        },
        "outputId": "444784ff-0a4a-4473-8aec-9e4b993b03f1"
      },
      "execution_count": null,
      "outputs": [
        {
          "output_type": "stream",
          "name": "stdout",
          "text": [
            "Pão de Batata\n",
            "Pão#de#Batata\n"
          ]
        }
      ]
    },
    {
      "cell_type": "code",
      "source": [
        "r"
      ],
      "metadata": {
        "id": "kzaECFkKTAJP"
      },
      "execution_count": null,
      "outputs": []
    },
    {
      "cell_type": "code",
      "source": [
        "# 8 - Faça um programa que retorne True se duas strings lidas do teclado são palíndromas mútuas, ou seja, se uma é igual à outra quando lida de traz para frente ou False, se não forem.\n",
        "# Por exemplo: amor e roma\n",
        "var1 = input(str(\"\"))\n",
        "var2 = input(str(\"\"))\n",
        "var3 = var2[::-1]\n",
        "print(\"As palavras são palíndromas mútuas\")\n",
        "var1 == var3\n"
      ],
      "metadata": {
        "id": "xMzTvD-StfcV",
        "colab": {
          "base_uri": "https://localhost:8080/"
        },
        "outputId": "c2624a0d-1d3a-4ae9-edfa-b372a0f2230a"
      },
      "execution_count": null,
      "outputs": [
        {
          "name": "stdout",
          "output_type": "stream",
          "text": [
            "arara\n",
            "oi\n"
          ]
        },
        {
          "output_type": "execute_result",
          "data": {
            "text/plain": [
              "False"
            ]
          },
          "metadata": {},
          "execution_count": 3
        }
      ]
    },
    {
      "cell_type": "code",
      "source": [
        "# 9- Faça um programa que leia o nome do usuário e mostre o nome de traz para frente, utilizando somente letras maiúsculas.\n",
        "var = input(str(\"\"))\n",
        "tr = var.upper()\n",
        "tr[::-1]"
      ],
      "metadata": {
        "id": "Q-VT1F6StorW",
        "colab": {
          "base_uri": "https://localhost:8080/",
          "height": 53
        },
        "outputId": "fc08b920-e667-4473-eb6d-2879e5e98f59"
      },
      "execution_count": null,
      "outputs": [
        {
          "name": "stdout",
          "output_type": "stream",
          "text": [
            "ARTHUR\n"
          ]
        },
        {
          "output_type": "execute_result",
          "data": {
            "text/plain": [
              "'RUHTRA'"
            ],
            "application/vnd.google.colaboratory.intrinsic+json": {
              "type": "string"
            }
          },
          "metadata": {},
          "execution_count": 36
        }
      ]
    },
    {
      "cell_type": "markdown",
      "source": [
        "# **Exercícios**"
      ],
      "metadata": {
        "id": "Fv1r44TLwVKM"
      }
    },
    {
      "cell_type": "markdown",
      "source": [
        "## 1. Soma dos Elementos da Lista\n",
        "Dada uma lista de números, calcule a soma de todos os elementos."
      ],
      "metadata": {
        "id": "b9nEDJF0wjrc"
      }
    },
    {
      "cell_type": "code",
      "execution_count": null,
      "metadata": {
        "id": "woHYcqQCwA-u",
        "colab": {
          "base_uri": "https://localhost:8080/"
        },
        "outputId": "8f6e505b-2d39-433e-d7ac-96f6701c08d3"
      },
      "outputs": [
        {
          "output_type": "execute_result",
          "data": {
            "text/plain": [
              "15"
            ]
          },
          "metadata": {},
          "execution_count": 14
        }
      ],
      "source": [
        "# Seu código aqui...\n",
        "lista = [1, 2, 3, 4, 5]\n",
        "sum(lista)"
      ]
    },
    {
      "cell_type": "markdown",
      "source": [
        "## 2. Produto dos elementos da lista\n",
        "Dada uma lista de números, calcule o produto de todos os elementos."
      ],
      "metadata": {
        "id": "jRKcmWKiw0z8"
      }
    },
    {
      "cell_type": "code",
      "source": [
        "# Seu código aqui...\n",
        "lista2 = [1, 2, 3, 4, 5]\n",
        "prod = 1\n",
        "for i in lista2:\n",
        "  prod = prod * i\n",
        "print(prod)"
      ],
      "metadata": {
        "id": "fLbEGjowwaZe",
        "colab": {
          "base_uri": "https://localhost:8080/"
        },
        "outputId": "e3cf28d8-5681-4a00-807c-e8bb3044cac9"
      },
      "execution_count": null,
      "outputs": [
        {
          "output_type": "stream",
          "name": "stdout",
          "text": [
            "120\n"
          ]
        }
      ]
    },
    {
      "cell_type": "markdown",
      "source": [
        "## 3. Encontre o menor elemento\n",
        "Dada uma lista de números, encontre o menor elemento."
      ],
      "metadata": {
        "id": "-Er6OsAyxFQj"
      }
    },
    {
      "cell_type": "code",
      "source": [
        "# Seu código aqui...\n",
        "lista3 = [1, 2, 3, 4, 5]\n",
        "min(lista3)"
      ],
      "metadata": {
        "id": "KVoiJ_u0xKvc",
        "colab": {
          "base_uri": "https://localhost:8080/"
        },
        "outputId": "4b768528-2e49-4450-fe5f-17318b7347a5"
      },
      "execution_count": null,
      "outputs": [
        {
          "output_type": "execute_result",
          "data": {
            "text/plain": [
              "1"
            ]
          },
          "metadata": {},
          "execution_count": 11
        }
      ]
    },
    {
      "cell_type": "markdown",
      "source": [
        "## 4. Encontre o maior elemento\n",
        "Dada uma lista de números, encontre o maior elemento."
      ],
      "metadata": {
        "id": "WXYaMI7FxQXk"
      }
    },
    {
      "cell_type": "code",
      "source": [
        "# Seu código aqui...\n",
        "lista4 = [1, 2, 3, 4, 5]\n",
        "max(lista4)"
      ],
      "metadata": {
        "id": "DoNhSLyuxb19",
        "colab": {
          "base_uri": "https://localhost:8080/"
        },
        "outputId": "5baecc82-70be-42d4-832d-13f5fa6b57a2"
      },
      "execution_count": null,
      "outputs": [
        {
          "output_type": "execute_result",
          "data": {
            "text/plain": [
              "5"
            ]
          },
          "metadata": {},
          "execution_count": 12
        }
      ]
    },
    {
      "cell_type": "markdown",
      "source": [
        "## 5. Contar Ocorrências de um Elemento\n",
        "Dada uma lista de números e um número alvo, conte quantas vezes o alvo aparece na lista."
      ],
      "metadata": {
        "id": "BkHVHCiPxgTs"
      }
    },
    {
      "cell_type": "code",
      "source": [
        "# Seu código aqui...\n",
        "lista5 = [1, 2, 3, 4, 3, 2, 1]\n",
        "alvo = 2\n",
        "lista5.count(alvo)"
      ],
      "metadata": {
        "id": "Hreq56gixmYC",
        "colab": {
          "base_uri": "https://localhost:8080/"
        },
        "outputId": "9ccd5f38-a6a5-412b-fa0b-ec4e50a65c3f"
      },
      "execution_count": null,
      "outputs": [
        {
          "output_type": "execute_result",
          "data": {
            "text/plain": [
              "2"
            ]
          },
          "metadata": {},
          "execution_count": 20
        }
      ]
    },
    {
      "cell_type": "markdown",
      "source": [
        "## 6. Remover duplicatas\n",
        "Dada uma lista de números, crie uma nova lista sem elementos duplicados."
      ],
      "metadata": {
        "id": "zSsy12F-xrVT"
      }
    },
    {
      "cell_type": "code",
      "source": [
        "# Seu código aqui...\n",
        "lista6 = [1, 2, 2, 3, 4, 4, 5]\n",
        "newlist = []\n",
        "listdup = []\n",
        "for i in lista6:\n",
        "  var = lista6.count(i)\n",
        "  if not i in listdup:\n",
        "    if (var == 1):\n",
        "      newlist.append(i)\n",
        "    elif (var > 1):\n",
        "      newlist.append(i)\n",
        "      listdup.append(i)\n",
        "print(newlist)\n",
        "print(listdup)"
      ],
      "metadata": {
        "id": "9N35r8abxydM",
        "colab": {
          "base_uri": "https://localhost:8080/"
        },
        "outputId": "c57e0071-5484-4942-ea03-a4fbd0fe14e1"
      },
      "execution_count": null,
      "outputs": [
        {
          "output_type": "stream",
          "name": "stdout",
          "text": [
            "[1, 2, 3, 4, 5]\n",
            "[2, 4]\n"
          ]
        }
      ]
    },
    {
      "cell_type": "code",
      "source": [
        "lista6 = [1, 2, 2, 3, 4, 4, 5]\n",
        "list(set(lista6))"
      ],
      "metadata": {
        "colab": {
          "base_uri": "https://localhost:8080/"
        },
        "id": "UrIJi0NjAUk7",
        "outputId": "fb77dcf3-dfd8-4f95-8728-1b1ef4c49248"
      },
      "execution_count": null,
      "outputs": [
        {
          "output_type": "execute_result",
          "data": {
            "text/plain": [
              "[1, 2, 3, 4, 5]"
            ]
          },
          "metadata": {},
          "execution_count": 17
        }
      ]
    },
    {
      "cell_type": "markdown",
      "source": [
        "## 7. Inverter uma lista\n",
        "Dada uma lista de números, inverta a ordem dos elementos."
      ],
      "metadata": {
        "id": "Ev1YAUF9x3o8"
      }
    },
    {
      "cell_type": "code",
      "source": [
        "# Seu código aqui...\n",
        "lista6 = [1, 2, 3, 4, 5]\n",
        "lista6[::-1]"
      ],
      "metadata": {
        "id": "X8YLy9uqx9kz",
        "colab": {
          "base_uri": "https://localhost:8080/"
        },
        "outputId": "0b15e667-2d01-4115-e1de-7a85901505dc"
      },
      "execution_count": null,
      "outputs": [
        {
          "output_type": "execute_result",
          "data": {
            "text/plain": [
              "[5, 4, 3, 2, 1]"
            ]
          },
          "metadata": {},
          "execution_count": 7
        }
      ]
    },
    {
      "cell_type": "markdown",
      "source": [
        "## 8. Intercalar Duas Listas\n",
        "Dadas duas listas de números, crie uma nova lista intercalando os elementos das duas listas."
      ],
      "metadata": {
        "id": "1k2bPDTPyB-L"
      }
    },
    {
      "cell_type": "code",
      "source": [
        "# Seu código aqui...\n",
        "lista81 = [1, 3, 5]\n",
        "lista82 = [2, 4, 6]\n",
        "newlist = []\n",
        "cont = 0\n",
        "for i in range(0, len(lista81)):\n",
        "  newlist.append(lista81[i])\n",
        "  newlist.append(lista82[i])\n",
        "print(newlist)\n"
      ],
      "metadata": {
        "id": "TXajIrGxyH3j",
        "colab": {
          "base_uri": "https://localhost:8080/"
        },
        "outputId": "58055900-3d39-4141-b5bc-455179c2148e"
      },
      "execution_count": null,
      "outputs": [
        {
          "output_type": "stream",
          "name": "stdout",
          "text": [
            "[1, 2, 3, 4, 5, 6]\n"
          ]
        }
      ]
    },
    {
      "cell_type": "markdown",
      "source": [
        "## 9. Somar Elementos Correspondentes de Duas Listas\n",
        "Dadas duas listas de números de mesmo tamanho, crie uma nova lista com a soma dos elementos correspondentes."
      ],
      "metadata": {
        "id": "ewiPtV9MyP1q"
      }
    },
    {
      "cell_type": "code",
      "source": [
        "# Seu código aqui...\n",
        "lista91 = [1, 2, 3]\n",
        "lista92 = [4, 5, 6]\n",
        "listcot = []\n",
        "cont = 0\n",
        "while cont < 3:\n",
        "  listcot.append(lista91[cont] + lista92[cont])\n",
        "  cont = cont + 1\n",
        "print(listcot)"
      ],
      "metadata": {
        "id": "0-4qe89uyVWT",
        "colab": {
          "base_uri": "https://localhost:8080/"
        },
        "outputId": "d69562dd-3948-47a1-b27a-a739cf6d8a2e"
      },
      "execution_count": null,
      "outputs": [
        {
          "output_type": "stream",
          "name": "stdout",
          "text": [
            "[5, 7, 9]\n"
          ]
        }
      ]
    },
    {
      "cell_type": "markdown",
      "source": [
        "## 10. Mover Zeros para o Fim\n",
        "Dada uma lista de números, mova todos os zeros para o final da lista."
      ],
      "metadata": {
        "id": "QX-QkQg5ybQa"
      }
    },
    {
      "cell_type": "code",
      "source": [
        "# Seu código aqui...\n",
        "lista10 = [0, 1, 0, 3, 12]\n",
        "for i in lista10:\n",
        "  if i == 0:\n",
        "    lista10.remove(i)\n",
        "    lista10.append(i)\n",
        "print(lista10)"
      ],
      "metadata": {
        "id": "i8jHZT30ygD6",
        "colab": {
          "base_uri": "https://localhost:8080/"
        },
        "outputId": "f4da2748-10f3-4a35-d049-3cfbc3d467a2"
      },
      "execution_count": null,
      "outputs": [
        {
          "output_type": "stream",
          "name": "stdout",
          "text": [
            "[1, 3, 12, 0, 0]\n"
          ]
        }
      ]
    }
  ]
}